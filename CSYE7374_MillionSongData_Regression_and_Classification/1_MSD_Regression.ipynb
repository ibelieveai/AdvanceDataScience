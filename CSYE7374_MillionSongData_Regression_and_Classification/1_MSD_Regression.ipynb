{
 "cells": [
  {
   "cell_type": "code",
   "execution_count": 1,
   "metadata": {
    "collapsed": false
   },
   "outputs": [],
   "source": [
    "from pyspark import SparkContext"
   ]
  },
  {
   "cell_type": "code",
   "execution_count": 3,
   "metadata": {
    "collapsed": true
   },
   "outputs": [],
   "source": [
    "sc.stop()"
   ]
  },
  {
   "cell_type": "code",
   "execution_count": 4,
   "metadata": {
    "collapsed": false
   },
   "outputs": [],
   "source": [
    "sc = SparkContext(appName='1_MSD_Regression')"
   ]
  },
  {
   "cell_type": "code",
   "execution_count": 5,
   "metadata": {
    "collapsed": false
   },
   "outputs": [],
   "source": [
    "# Load and check the data \n",
    "import os.path\n",
    "baseDir = os.path.join('data')\n",
    "inputPath = os.path.join('YearPredictionMSD.csv')\n",
    "fileName = os.path.join(baseDir, inputPath)\n",
    "numPartitions = 2\n",
    "rawData = sc.textFile(fileName, numPartitions)"
   ]
  },
  {
   "cell_type": "code",
   "execution_count": null,
   "metadata": {
    "collapsed": true
   },
   "outputs": [],
   "source": [
    "#Sample data\n",
    "numPoints = rawData.count()\n",
    "print numPoints\n",
    "samplePoints = rawData.take(5)\n",
    "print samplePoints"
   ]
  },
  {
   "cell_type": "code",
   "execution_count": 5,
   "metadata": {
    "collapsed": true
   },
   "outputs": [],
   "source": [
    "from pyspark.mllib.regression import LabeledPoint\n",
    "from pyspark.mllib.linalg import Vectors, Matrices\n",
    "import numpy as np"
   ]
  },
  {
   "cell_type": "code",
   "execution_count": 6,
   "metadata": {
    "collapsed": true
   },
   "outputs": [],
   "source": [
    "def parsePoint(line):\n",
    "    values = line.split(',')\n",
    "    return LabeledPoint(values[0], Vectors.dense(values[1:]))"
   ]
  },
  {
   "cell_type": "code",
   "execution_count": 24,
   "metadata": {
    "collapsed": false
   },
   "outputs": [
    {
     "name": "stdout",
     "output_type": "stream",
     "text": [
      "[LabeledPoint(2001.0, [49.94357,21.47114,73.0775,8.74861,-17.40628,-13.09905,-25.01202,-12.23257,7.83089,-2.46783,3.32136,-2.31521,10.20556,611.10913,951.0896,698.11428,408.98485,383.70912,326.51512,238.11327,251.42414,187.17351,100.42652,179.19498,-8.41558,-317.87038,95.86266,48.10259,-95.66303,-18.06215,1.96984,34.42438,11.7267,1.3679,7.79444,-0.36994,-133.67852,-83.26165,-37.29765,73.04667,-37.36684,-3.13853,-24.21531,-13.23066,15.93809,-18.60478,82.15479,240.5798,-10.29407,31.58431,-25.38187,-3.90772,13.29258,41.5506,-7.26272,-21.00863,105.50848,64.29856,26.08481,-44.5911,-8.30657,7.93706,-10.7366,-95.44766,-82.03307,-35.59194,4.69525,70.95626,28.09139,6.02015,-37.13767,-41.1245,-8.40816,7.19877,-8.60176,-5.90857,-12.32437,14.68734,-54.32125,40.14786,13.0162,-54.40548,58.99367,15.37344,1.11144,-23.08793,68.40795,-1.82223,-27.46348,2.26327]), LabeledPoint(2001.0, [48.73215,18.4293,70.32679,12.94636,-10.32437,-24.83777,8.7663,-0.92019,18.76548,4.5921,2.2192,0.34006,44.38997,2056.93836,605.40696,457.41175,777.15347,415.6488,746.47775,366.4532,317.82946,273.07917,141.75921,317.35269,19.48271,-65.25496,162.75145,135.00765,-96.28436,-86.87955,17.38087,45.90742,32.49908,-32.85429,45.1083,26.84939,-302.57328,-41.71932,-138.85034,202.18689,-33.44277,195.04749,-16.93235,-1.09168,-25.38061,-12.19034,-125.94783,121.74212,136.67075,41.18157,28.55107,1.52298,70.99515,-43.63073,-42.55014,129.82848,79.9542,-87.14554,-45.75446,-65.821,-43.90031,-19.45705,12.59163,-407.6413,42.91189,12.1585,-88.37882,42.25246,46.49209,-30.17747,45.98495,130.47892,13.88281,-4.00055,17.85965,-18.32138,-87.99109,14.37524,-22.70119,-58.81266,5.66812,-19.68073,33.04964,42.87836,-9.90378,-32.22788,70.49388,12.04941,58.43453,26.92061])]\n",
      "[49.94357,21.47114,73.0775,8.74861,-17.40628,-13.09905,-25.01202,-12.23257,7.83089,-2.46783,3.32136,-2.31521,10.20556,611.10913,951.0896,698.11428,408.98485,383.70912,326.51512,238.11327,251.42414,187.17351,100.42652,179.19498,-8.41558,-317.87038,95.86266,48.10259,-95.66303,-18.06215,1.96984,34.42438,11.7267,1.3679,7.79444,-0.36994,-133.67852,-83.26165,-37.29765,73.04667,-37.36684,-3.13853,-24.21531,-13.23066,15.93809,-18.60478,82.15479,240.5798,-10.29407,31.58431,-25.38187,-3.90772,13.29258,41.5506,-7.26272,-21.00863,105.50848,64.29856,26.08481,-44.5911,-8.30657,7.93706,-10.7366,-95.44766,-82.03307,-35.59194,4.69525,70.95626,28.09139,6.02015,-37.13767,-41.1245,-8.40816,7.19877,-8.60176,-5.90857,-12.32437,14.68734,-54.32125,40.14786,13.0162,-54.40548,58.99367,15.37344,1.11144,-23.08793,68.40795,-1.82223,-27.46348,2.26327] 2001.0\n"
     ]
    }
   ],
   "source": [
    "parsedSamplePoints = rawData.map(parsePoint).cache()\n",
    "print parsedSamplePoints.take(2)\n",
    "firstPointFeatures = parsedSamplePoints.take(1)[0].features\n",
    "firstPointLabel = parsedSamplePoints.take(1)[0].label\n",
    "print firstPointFeatures, firstPointLabel"
   ]
  },
  {
   "cell_type": "code",
   "execution_count": 8,
   "metadata": {
    "collapsed": false
   },
   "outputs": [],
   "source": [
    "from pyspark.mllib.stat import Statistics,MultivariateStatisticalSummary"
   ]
  },
  {
   "cell_type": "code",
   "execution_count": 9,
   "metadata": {
    "collapsed": false
   },
   "outputs": [],
   "source": [
    "rdd = parsedSamplePoints.map(lambda a:a.features)"
   ]
  },
  {
   "cell_type": "code",
   "execution_count": 10,
   "metadata": {
    "collapsed": true
   },
   "outputs": [],
   "source": [
    "labeld = parsedSamplePoints.map(lambda a:a.label)"
   ]
  },
  {
   "cell_type": "code",
   "execution_count": 11,
   "metadata": {
    "collapsed": false
   },
   "outputs": [
    {
     "data": {
      "text/plain": [
       "[2001.0, 2001.0]"
      ]
     },
     "execution_count": 11,
     "metadata": {},
     "output_type": "execute_result"
    }
   ],
   "source": [
    "labeld.take(2)"
   ]
  },
  {
   "cell_type": "code",
   "execution_count": 12,
   "metadata": {
    "collapsed": false
   },
   "outputs": [],
   "source": [
    "stats = Statistics.colStats(rdd)"
   ]
  },
  {
   "cell_type": "code",
   "execution_count": 13,
   "metadata": {
    "collapsed": false
   },
   "outputs": [
    {
     "name": "stdout",
     "output_type": "stream",
     "text": [
      "515345\n"
     ]
    }
   ],
   "source": [
    "print stats.count()"
   ]
  },
  {
   "cell_type": "code",
   "execution_count": 19,
   "metadata": {
    "collapsed": false
   },
   "outputs": [
    {
     "name": "stdout",
     "output_type": "stream",
     "text": [
      "[  4.33871256e+01   1.28955420e+00   8.65834709e+00   1.16412447e+00\n",
      "  -6.55360070e+00  -9.52197520e+00  -2.39108942e+00  -1.79323551e+00\n",
      "   3.72787581e+00   1.88238491e+00  -1.46527016e-01   2.54606336e+00\n",
      "   3.37140056e+01   2.43935938e+03   1.96773420e+03   1.51485990e+03\n",
      "   9.10981344e+02   8.79146721e+02   6.03737434e+02   5.17579339e+02\n",
      "   3.93962215e+02   3.25733170e+02   2.88885085e+02   2.91973238e+02\n",
      "   4.30319687e+01   4.33148725e+01  -4.64490057e+01  -2.76727830e+01\n",
      "   1.49584906e+01   4.45148595e+01   5.13178640e+00   2.40343086e+01\n",
      "   9.49881627e+00  -4.17885579e+00   4.99474661e-01   7.26522672e+01\n",
      "  -5.14412560e+01   1.17921056e+02  -1.89880885e+02   2.30960821e+01\n",
      "  -1.28300492e+00   1.81479733e+01  -5.19590221e+01   3.23268575e+00\n",
      "  -1.48832067e+00   6.33408380e+00   7.87024269e+01   1.42696868e+02\n",
      "  -8.65164764e+01   2.52407528e+01   6.37851064e+00   2.82940822e+01\n",
      "   1.27722407e+01   1.70047434e+00  -1.02051553e+01   6.41012625e+01\n",
      "   1.04822085e+02  -2.64808137e-02   3.86780403e+01  -2.79899851e+01\n",
      "   3.30173865e+00   3.07126834e-01  -4.78827587e-01  -1.38223224e+02\n",
      "  -6.96065128e-01   2.42582475e-01   3.15175098e+00   2.76427449e+01\n",
      "   3.18222436e+01  -8.35950125e-01  -8.93156350e+00   4.84925296e+00\n",
      "  -2.73476460e+01  -1.19387924e+01  -2.15721373e+01  -5.57619613e+00\n",
      "  -2.33043237e+01   3.11130528e+01  -1.04974794e+02   2.69623932e+01\n",
      "   1.57554060e+01  -7.34614998e+01   4.15424216e+01   3.79341187e+01\n",
      "   3.15751272e-01   1.76692132e+01  -2.63153360e+01   4.45864111e+00\n",
      "   2.00351364e+01   1.32910544e+00]\n"
     ]
    }
   ],
   "source": [
    "print stats.mean()"
   ]
  },
  {
   "cell_type": "code",
   "execution_count": 20,
   "metadata": {
    "collapsed": false
   },
   "outputs": [
    {
     "name": "stdout",
     "output_type": "stream",
     "text": [
      "[ 515345.  515345.  515345.  515345.  515345.  515345.  515345.  515345.\n",
      "  515345.  515345.  515343.  515345.  515345.  515345.  515345.  515345.\n",
      "  515345.  515345.  515345.  515345.  515345.  515345.  515345.  515345.\n",
      "  515345.  515345.  515345.  515345.  515345.  515345.  515345.  515345.\n",
      "  515345.  515345.  515345.  515345.  515345.  515345.  515345.  515345.\n",
      "  515345.  515345.  515345.  515345.  515345.  515345.  515345.  515345.\n",
      "  515345.  515345.  515345.  515345.  515345.  515345.  515345.  515345.\n",
      "  515345.  515345.  515345.  515345.  515345.  515345.  515344.  515345.\n",
      "  515345.  515345.  515345.  515345.  515345.  515345.  515345.  515345.\n",
      "  515345.  515344.  515345.  515345.  515345.  515345.  515345.  515345.\n",
      "  515345.  515345.  515345.  515345.  515345.  515345.  515345.  515345.\n",
      "  515345.  515345.]\n"
     ]
    }
   ],
   "source": [
    "print stats.numNonzeros()"
   ]
  },
  {
   "cell_type": "code",
   "execution_count": 21,
   "metadata": {
    "collapsed": false
   },
   "outputs": [
    {
     "name": "stdout",
     "output_type": "stream",
     "text": [
      "[  3.68152638e+01   2.66053259e+03   1.24387308e+03   2.66433469e+02\n",
      "   5.22615510e+02   1.65321773e+02   2.12339488e+02   6.34225482e+01\n",
      "   1.11996937e+02   4.26439263e+01   1.91043134e+01   6.92255624e+01\n",
      "   4.95491232e+02   3.06028731e+06   1.59134388e+06   1.19427969e+06\n",
      "   2.26298295e+05   3.32774375e+05   1.00805798e+05   9.57065390e+04\n",
      "   4.58017789e+04   2.74562854e+04   3.49543141e+04   2.35547748e+04\n",
      "   1.47451230e+04   5.12311157e+05   2.96894068e+05   4.76847915e+04\n",
      "   2.66393937e+04   1.81947273e+04   9.81845540e+03   5.15666667e+03\n",
      "   5.53709808e+03   2.86407320e+03   1.80543373e+03   1.16451354e+04\n",
      "   1.72257455e+05   2.05570862e+05   6.79360087e+04   4.23287785e+04\n",
      "   1.43599185e+04   1.43630035e+04   5.42026025e+03   1.47255448e+03\n",
      "   1.72600967e+03   3.02218405e+03   2.21461908e+05   6.88380495e+04\n",
      "   4.39041429e+04   1.49215056e+04   8.75266382e+03   5.63239395e+03\n",
      "   4.89745921e+03   6.93533519e+03   3.34160201e+03   7.49813292e+04\n",
      "   9.68051738e+04   7.11683813e+04   2.85853963e+04   2.07599209e+04\n",
      "   3.53397005e+03   2.41881261e+03   1.41943756e+03   9.49794675e+04\n",
      "   4.93721819e+04   1.64201058e+04   9.98419615e+03   1.36179976e+04\n",
      "   1.13124363e+04   1.35418061e+03   6.33059587e+04   5.24686767e+04\n",
      "   2.68247465e+04   4.00548367e+03   4.18499605e+03   6.94753365e+02\n",
      "   7.19263654e+04   2.07810110e+04   4.04563028e+04   1.53383001e+04\n",
      "   1.03038657e+03   3.08419943e+04   1.49398793e+04   9.03462237e+03\n",
      "   2.61202618e+02   1.30937454e+04   3.02681135e+04   1.78130575e+02\n",
      "   3.44318629e+04   4.87905206e+02]\n"
     ]
    }
   ],
   "source": [
    "print stats.variance()"
   ]
  },
  {
   "cell_type": "code",
   "execution_count": 14,
   "metadata": {
    "collapsed": false
   },
   "outputs": [],
   "source": [
    "from pyspark.mllib.feature import VectorTransformer\n",
    "from pyspark.mllib.feature import Normalizer"
   ]
  },
  {
   "cell_type": "code",
   "execution_count": 15,
   "metadata": {
    "collapsed": true
   },
   "outputs": [],
   "source": [
    "nor = Normalizer(1)\n",
    "newrdd=nor.transform(rdd)"
   ]
  },
  {
   "cell_type": "code",
   "execution_count": 25,
   "metadata": {
    "collapsed": false
   },
   "outputs": [
    {
     "data": {
      "text/plain": [
       "[DenseVector([0.0069, 0.003, 0.0101, 0.0012, -0.0024, -0.0018, -0.0035, -0.0017, 0.0011, -0.0003, 0.0005, -0.0003, 0.0014, 0.0846, 0.1316, 0.0966, 0.0566, 0.0531, 0.0452, 0.0329, 0.0348, 0.0259, 0.0139, 0.0248, -0.0012, -0.044, 0.0133, 0.0067, -0.0132, -0.0025, 0.0003, 0.0048, 0.0016, 0.0002, 0.0011, -0.0001, -0.0185, -0.0115, -0.0052, 0.0101, -0.0052, -0.0004, -0.0034, -0.0018, 0.0022, -0.0026, 0.0114, 0.0333, -0.0014, 0.0044, -0.0035, -0.0005, 0.0018, 0.0057, -0.001, -0.0029, 0.0146, 0.0089, 0.0036, -0.0062, -0.0011, 0.0011, -0.0015, -0.0132, -0.0114, -0.0049, 0.0006, 0.0098, 0.0039, 0.0008, -0.0051, -0.0057, -0.0012, 0.001, -0.0012, -0.0008, -0.0017, 0.002, -0.0075, 0.0056, 0.0018, -0.0075, 0.0082, 0.0021, 0.0002, -0.0032, 0.0095, -0.0003, -0.0038, 0.0003]),\n",
       " DenseVector([0.0044, 0.0017, 0.0064, 0.0012, -0.0009, -0.0023, 0.0008, -0.0001, 0.0017, 0.0004, 0.0002, 0.0, 0.004, 0.1875, 0.0552, 0.0417, 0.0708, 0.0379, 0.068, 0.0334, 0.029, 0.0249, 0.0129, 0.0289, 0.0018, -0.0059, 0.0148, 0.0123, -0.0088, -0.0079, 0.0016, 0.0042, 0.003, -0.003, 0.0041, 0.0024, -0.0276, -0.0038, -0.0127, 0.0184, -0.003, 0.0178, -0.0015, -0.0001, -0.0023, -0.0011, -0.0115, 0.0111, 0.0125, 0.0038, 0.0026, 0.0001, 0.0065, -0.004, -0.0039, 0.0118, 0.0073, -0.0079, -0.0042, -0.006, -0.004, -0.0018, 0.0011, -0.0372, 0.0039, 0.0011, -0.0081, 0.0039, 0.0042, -0.0028, 0.0042, 0.0119, 0.0013, -0.0004, 0.0016, -0.0017, -0.008, 0.0013, -0.0021, -0.0054, 0.0005, -0.0018, 0.003, 0.0039, -0.0009, -0.0029, 0.0064, 0.0011, 0.0053, 0.0025])]"
      ]
     },
     "execution_count": 25,
     "metadata": {},
     "output_type": "execute_result"
    }
   ],
   "source": [
    "newrdd.take(2)"
   ]
  },
  {
   "cell_type": "code",
   "execution_count": 26,
   "metadata": {
    "collapsed": false
   },
   "outputs": [
    {
     "data": {
      "text/plain": [
       "[DenseVector([0.0069, 0.003, 0.0101, 0.0012, -0.0024, -0.0018, -0.0035, -0.0017, 0.0011, -0.0003, 0.0005, -0.0003, 0.0014, 0.0846, 0.1316, 0.0966, 0.0566, 0.0531, 0.0452, 0.0329, 0.0348, 0.0259, 0.0139, 0.0248, -0.0012, -0.044, 0.0133, 0.0067, -0.0132, -0.0025, 0.0003, 0.0048, 0.0016, 0.0002, 0.0011, -0.0001, -0.0185, -0.0115, -0.0052, 0.0101, -0.0052, -0.0004, -0.0034, -0.0018, 0.0022, -0.0026, 0.0114, 0.0333, -0.0014, 0.0044, -0.0035, -0.0005, 0.0018, 0.0057, -0.001, -0.0029, 0.0146, 0.0089, 0.0036, -0.0062, -0.0011, 0.0011, -0.0015, -0.0132, -0.0114, -0.0049, 0.0006, 0.0098, 0.0039, 0.0008, -0.0051, -0.0057, -0.0012, 0.001, -0.0012, -0.0008, -0.0017, 0.002, -0.0075, 0.0056, 0.0018, -0.0075, 0.0082, 0.0021, 0.0002, -0.0032, 0.0095, -0.0003, -0.0038, 0.0003]),\n",
       " DenseVector([0.0044, 0.0017, 0.0064, 0.0012, -0.0009, -0.0023, 0.0008, -0.0001, 0.0017, 0.0004, 0.0002, 0.0, 0.004, 0.1875, 0.0552, 0.0417, 0.0708, 0.0379, 0.068, 0.0334, 0.029, 0.0249, 0.0129, 0.0289, 0.0018, -0.0059, 0.0148, 0.0123, -0.0088, -0.0079, 0.0016, 0.0042, 0.003, -0.003, 0.0041, 0.0024, -0.0276, -0.0038, -0.0127, 0.0184, -0.003, 0.0178, -0.0015, -0.0001, -0.0023, -0.0011, -0.0115, 0.0111, 0.0125, 0.0038, 0.0026, 0.0001, 0.0065, -0.004, -0.0039, 0.0118, 0.0073, -0.0079, -0.0042, -0.006, -0.004, -0.0018, 0.0011, -0.0372, 0.0039, 0.0011, -0.0081, 0.0039, 0.0042, -0.0028, 0.0042, 0.0119, 0.0013, -0.0004, 0.0016, -0.0017, -0.008, 0.0013, -0.0021, -0.0054, 0.0005, -0.0018, 0.003, 0.0039, -0.0009, -0.0029, 0.0064, 0.0011, 0.0053, 0.0025])]"
      ]
     },
     "execution_count": 26,
     "metadata": {},
     "output_type": "execute_result"
    }
   ],
   "source": [
    "nor1 = Normalizer(p=2)\n",
    "newrdd1=nor.transform(rdd)\n",
    "newrdd1.take(2)"
   ]
  },
  {
   "cell_type": "code",
   "execution_count": 17,
   "metadata": {
    "collapsed": false
   },
   "outputs": [
    {
     "data": {
      "text/plain": [
       "[DenseVector([0.0069, 0.003, 0.0101, 0.0012, -0.0024, -0.0018, -0.0035, -0.0017, 0.0011, -0.0003, 0.0005, -0.0003, 0.0014, 0.0846, 0.1316, 0.0966, 0.0566, 0.0531, 0.0452, 0.0329, 0.0348, 0.0259, 0.0139, 0.0248, -0.0012, -0.044, 0.0133, 0.0067, -0.0132, -0.0025, 0.0003, 0.0048, 0.0016, 0.0002, 0.0011, -0.0001, -0.0185, -0.0115, -0.0052, 0.0101, -0.0052, -0.0004, -0.0034, -0.0018, 0.0022, -0.0026, 0.0114, 0.0333, -0.0014, 0.0044, -0.0035, -0.0005, 0.0018, 0.0057, -0.001, -0.0029, 0.0146, 0.0089, 0.0036, -0.0062, -0.0011, 0.0011, -0.0015, -0.0132, -0.0114, -0.0049, 0.0006, 0.0098, 0.0039, 0.0008, -0.0051, -0.0057, -0.0012, 0.001, -0.0012, -0.0008, -0.0017, 0.002, -0.0075, 0.0056, 0.0018, -0.0075, 0.0082, 0.0021, 0.0002, -0.0032, 0.0095, -0.0003, -0.0038, 0.0003]),\n",
       " DenseVector([0.0044, 0.0017, 0.0064, 0.0012, -0.0009, -0.0023, 0.0008, -0.0001, 0.0017, 0.0004, 0.0002, 0.0, 0.004, 0.1875, 0.0552, 0.0417, 0.0708, 0.0379, 0.068, 0.0334, 0.029, 0.0249, 0.0129, 0.0289, 0.0018, -0.0059, 0.0148, 0.0123, -0.0088, -0.0079, 0.0016, 0.0042, 0.003, -0.003, 0.0041, 0.0024, -0.0276, -0.0038, -0.0127, 0.0184, -0.003, 0.0178, -0.0015, -0.0001, -0.0023, -0.0011, -0.0115, 0.0111, 0.0125, 0.0038, 0.0026, 0.0001, 0.0065, -0.004, -0.0039, 0.0118, 0.0073, -0.0079, -0.0042, -0.006, -0.004, -0.0018, 0.0011, -0.0372, 0.0039, 0.0011, -0.0081, 0.0039, 0.0042, -0.0028, 0.0042, 0.0119, 0.0013, -0.0004, 0.0016, -0.0017, -0.008, 0.0013, -0.0021, -0.0054, 0.0005, -0.0018, 0.003, 0.0039, -0.0009, -0.0029, 0.0064, 0.0011, 0.0053, 0.0025])]"
      ]
     },
     "execution_count": 17,
     "metadata": {},
     "output_type": "execute_result"
    }
   ],
   "source": [
    "nor2 = Normalizer(float(\"inf\"))\n",
    "newrdd1=nor.transform(rdd)\n",
    "newrdd1.take(2)"
   ]
  },
  {
   "cell_type": "code",
   "execution_count": 17,
   "metadata": {
    "collapsed": false
   },
   "outputs": [
    {
     "name": "stdout",
     "output_type": "stream",
     "text": [
      "2011.0 1922.0\n"
     ]
    }
   ],
   "source": [
    "parsedDataInit = rawData.map(parsePoint)\n",
    "onlyLabels = parsedDataInit.map(lambda a: a.label)\n",
    "minYear = onlyLabels.min()\n",
    "maxYear = onlyLabels.max()\n",
    "print maxYear, minYear"
   ]
  },
  {
   "cell_type": "code",
   "execution_count": 27,
   "metadata": {
    "collapsed": true
   },
   "outputs": [],
   "source": [
    "NewData = labeld.zip(newrdd)"
   ]
  },
  {
   "cell_type": "code",
   "execution_count": 28,
   "metadata": {
    "collapsed": false
   },
   "outputs": [
    {
     "data": {
      "text/plain": [
       "(2001.0,\n",
       " DenseVector([0.0069, 0.003, 0.0101, 0.0012, -0.0024, -0.0018, -0.0035, -0.0017, 0.0011, -0.0003, 0.0005, -0.0003, 0.0014, 0.0846, 0.1316, 0.0966, 0.0566, 0.0531, 0.0452, 0.0329, 0.0348, 0.0259, 0.0139, 0.0248, -0.0012, -0.044, 0.0133, 0.0067, -0.0132, -0.0025, 0.0003, 0.0048, 0.0016, 0.0002, 0.0011, -0.0001, -0.0185, -0.0115, -0.0052, 0.0101, -0.0052, -0.0004, -0.0034, -0.0018, 0.0022, -0.0026, 0.0114, 0.0333, -0.0014, 0.0044, -0.0035, -0.0005, 0.0018, 0.0057, -0.001, -0.0029, 0.0146, 0.0089, 0.0036, -0.0062, -0.0011, 0.0011, -0.0015, -0.0132, -0.0114, -0.0049, 0.0006, 0.0098, 0.0039, 0.0008, -0.0051, -0.0057, -0.0012, 0.001, -0.0012, -0.0008, -0.0017, 0.002, -0.0075, 0.0056, 0.0018, -0.0075, 0.0082, 0.0021, 0.0002, -0.0032, 0.0095, -0.0003, -0.0038, 0.0003]))"
      ]
     },
     "execution_count": 28,
     "metadata": {},
     "output_type": "execute_result"
    }
   ],
   "source": [
    "NewData.first()"
   ]
  },
  {
   "cell_type": "code",
   "execution_count": 45,
   "metadata": {
    "collapsed": false
   },
   "outputs": [
    {
     "data": {
      "text/plain": [
       "515345"
      ]
     },
     "execution_count": 45,
     "metadata": {},
     "output_type": "execute_result"
    }
   ],
   "source": [
    "#NewData.map(lambda a:a[1:]).count()"
   ]
  },
  {
   "cell_type": "code",
   "execution_count": 29,
   "metadata": {
    "collapsed": false
   },
   "outputs": [
    {
     "name": "stdout",
     "output_type": "stream",
     "text": [
      "<class 'pyspark.mllib.regression.LabeledPoint'>\n",
      "\n",
      "[LabeledPoint(79.0, [0.00691019872744,0.00297074967418,0.0101110122385,0.00121045879758,-0.00240833512513,-0.00181238623191,-0.00346066628346,-0.00169249994839,0.0010834829411,-0.000341449274162,0.000459543794033,-0.000320332751458,0.00141204258576,0.0845531373198,0.131592878595,0.0965911809921,0.0565871961098,0.053090042877,0.0451766737282,0.0329453824655,0.0347870761396,0.0258973507623,0.0138950261406,0.024793440332,-0.00116438072422,-0.0439805863971,0.0132635698878,0.00665548049938,-0.0132359490555,-0.00249908138214,0.000272547314124,0.00476296161586,0.00162250771054,0.000189262818803,0.00107843971444,-5.11849456743e-05,-0.0184957771098,-0.0115200925339,-0.00516050762023,0.0101067465958,-0.00517008075747,-0.00043424741187,-0.00335043338605,-0.00183059580833,0.00220519616911,-0.00257415973829,0.0113669472429,0.0332866518715,-0.00142428884067,0.00437000916773,-0.00351183877672,-0.000540672638564,0.00183916306745,0.00574894632571,-0.0010048708673,-0.00290675673147,0.0145981667756,0.00889635697825,0.00360909764495,-0.00616963029425,-0.00114929808669,0.00109817263587,-0.00148551734802,-0.0132061504348,-0.0113501060481,-0.00492450536666,0.000649635390001,0.00981751720103,0.00388672831017,0.000832948723309,-0.00513837276699,-0.00568999107526,-0.00116335409207,0.000996022737124,-0.00119014061281,-0.00081751050025,-0.00170520140812,0.00203214223928,-0.00751589509166,0.00555486304006,0.00180092309533,-0.00752754916522,0.00816237171994,0.00212707112296,0.00015377898043,-0.00319444894518,0.00946493270379,-0.000252123975661,-0.00379985060233,0.000313146326421])]\n"
     ]
    }
   ],
   "source": [
    "#Shifting labels\n",
    "parsedData = NewData.map(lambda a: LabeledPoint((a[0] - 1922),a[1:]))\n",
    "print type(parsedData.take(1)[0])\n",
    "# View the first point\n",
    "print '\\n{0}'.format(parsedData.take(1))"
   ]
  },
  {
   "cell_type": "code",
   "execution_count": 22,
   "metadata": {
    "collapsed": true
   },
   "outputs": [],
   "source": [
    "import matplotlib.pyplot as plt\n",
    "import matplotlib.cm as cm"
   ]
  },
  {
   "cell_type": "code",
   "execution_count": 49,
   "metadata": {
    "collapsed": false
   },
   "outputs": [],
   "source": [
    "oldData = (parsedDataInit\n",
    "           .map(lambda lp: (lp.label, 1))\n",
    "           .reduceByKey(lambda x, y: x + y)\n",
    "           .collect())\n",
    "x, y = zip(*oldData)\n",
    "\n",
    "# generate layout and plot data\n",
    "fig, ax = preparePlot(np.arange(1920, 2050, 20), np.arange(0, 150, 20))\n",
    "plt.scatter(x, y, s=14**2, c='#d6ebf2', edgecolors='#8cbfd0', alpha=0.75)\n",
    "ax.set_xlabel('Year'), ax.set_ylabel('Count')\n",
    "pass"
   ]
  },
  {
   "cell_type": "code",
   "execution_count": 50,
   "metadata": {
    "collapsed": true
   },
   "outputs": [],
   "source": [
    "# get data for plot\n",
    "newData = (parsedData\n",
    "           .map(lambda lp: (lp.label, 1))\n",
    "           .reduceByKey(lambda x, y: x + y)\n",
    "           .collect())\n",
    "x, y = zip(*newData)\n",
    "\n",
    "# generate layout and plot data\n",
    "fig, ax = preparePlot(np.arange(0, 120, 20), np.arange(0, 120, 20))\n",
    "plt.scatter(x, y, s=14**2, c='#d6ebf2', edgecolors='#8cbfd0', alpha=0.75)\n",
    "ax.set_xlabel('Year (shifted)'), ax.set_ylabel('Count')\n",
    "pass"
   ]
  },
  {
   "cell_type": "code",
   "execution_count": 30,
   "metadata": {
    "collapsed": false
   },
   "outputs": [
    {
     "name": "stdout",
     "output_type": "stream",
     "text": [
      "308870 103451 103024 515345\n",
      "515345\n"
     ]
    }
   ],
   "source": [
    "weights = [.6, .2, .2]\n",
    "seed = 42\n",
    "parsedTrainData, parsedValData, parsedTestData = parsedData.randomSplit(weights,seed)\n",
    "parsedTrainData.cache()\n",
    "parsedValData.cache()\n",
    "parsedTestData.cache()\n",
    "nTrain = parsedTrainData.count()\n",
    "nVal = parsedValData.count()\n",
    "nTest = parsedTestData.count()\n",
    "\n",
    "print nTrain, nVal, nTest, nTrain + nVal + nTest\n",
    "print parsedData.count()"
   ]
  },
  {
   "cell_type": "code",
   "execution_count": 24,
   "metadata": {
    "collapsed": false,
    "scrolled": true
   },
   "outputs": [
    {
     "name": "stdout",
     "output_type": "stream",
     "text": [
      "76.3946391283\n"
     ]
    }
   ],
   "source": [
    "#Create and evaluate a baseline model \n",
    "averageTrainYear = (parsedTrainData.map(lambda x:x.label).mean())\n",
    "print averageTrainYear"
   ]
  },
  {
   "cell_type": "code",
   "execution_count": 22,
   "metadata": {
    "collapsed": true
   },
   "outputs": [],
   "source": [
    "def squaredError(label, prediction):\n",
    "    return (float(label) - float(prediction))**2 \n",
    "def calcRMSE(labelsAndPreds):\n",
    "    return np.sqrt(labelsAndPreds.map(lambda (label,prediction) : squaredError(label,prediction)).reduce(lambda x,y : x+y)/labelsAndPreds.count())"
   ]
  },
  {
   "cell_type": "code",
   "execution_count": 23,
   "metadata": {
    "collapsed": false
   },
   "outputs": [
    {
     "name": "stdout",
     "output_type": "stream",
     "text": [
      "Baseline Train RMSE = 10.939\n",
      "Baseline Validation RMSE = 10.947\n",
      "Baseline Test RMSE = 10.891\n"
     ]
    }
   ],
   "source": [
    "labelsAndPredsTrain = parsedTrainData.map(lambda x:(x.label,76.39463))\n",
    "#labelsAndPredsTrain.take(10)                                          \n",
    "rmseTrainBase = calcRMSE(labelsAndPredsTrain)\n",
    "\n",
    "labelsAndPredsVal = parsedValData.map(lambda x:(x.label,76.39463))\n",
    "rmseValBase = calcRMSE(labelsAndPredsVal)\n",
    "\n",
    "labelsAndPredsTest = parsedTestData.map(lambda x:(x.label,76.39463))\n",
    "rmseTestBase = calcRMSE(labelsAndPredsTest)\n",
    "\n",
    "print 'Baseline Train RMSE = {0:.3f}'.format(rmseTrainBase)\n",
    "print 'Baseline Validation RMSE = {0:.3f}'.format(rmseValBase)\n",
    "print 'Baseline Test RMSE = {0:.3f}'.format(rmseTestBase)"
   ]
  },
  {
   "cell_type": "code",
   "execution_count": 31,
   "metadata": {
    "collapsed": true
   },
   "outputs": [],
   "source": [
    "#LinearRegressionWithSGD\n",
    "from pyspark.mllib.regression import LinearRegressionWithSGD\n",
    "# Values to use when training the linear regression model\n",
    "\n",
    "numIters = 500  # iterations\n",
    "alpha = 1.0  # step\n",
    "miniBatchFrac = 1.0  # miniBatchFraction\n",
    "reg = 1e-1  # regParam\n",
    "regType = 'l2'  # regType\n",
    "useIntercept = True  # intercept"
   ]
  },
  {
   "cell_type": "code",
   "execution_count": 32,
   "metadata": {
    "collapsed": false
   },
   "outputs": [
    {
     "name": "stdout",
     "output_type": "stream",
     "text": [
      "[0.228414391638,0.0546818869785,0.0370837177161,-0.0106080387818,-0.0506825241564,-0.0781862507568,0.00111773420804,-0.0105136373253,0.0210990889886,0.0123401382994,0.000292223913911,0.00503419457498,0.137697884856,9.37415875291,7.02356712377,5.66038119902,3.69072090788,3.37369982082,2.38126378021,2.14534511673,1.51664819481,1.33707934548,1.15163829981,1.15211284798,0.215125328166,-0.218598923232,-0.235161038259,-0.0914619550957,0.100241576124,0.162370554724,-0.0359845141191,0.107381653422,0.012161271736,-0.0238703101086,0.0132338296163,0.202545602652,-0.46580160727,0.549765768769,-0.697828981887,-0.0454199605641,-0.0509477289537,0.123110656587,-0.228885380141,0.0178483537758,-0.00951924852073,-0.017728123699,0.602605450004,0.441862186858,-0.368621417638,0.13241398712,0.0262170877982,0.108274949648,0.0715944499905,-0.0195404136492,-0.01826362135,0.116429710834,0.226022058778,-0.0285013160251,0.0251327113937,-0.189510852508,-0.015813730267,0.00407926397477,-0.0539270804825,-0.500997929546,-0.0317185051167,0.00181171997177,-0.0411848630568,0.153441356544,0.0750478182279,0.00797712126872,0.0822318836015,-0.00685239677559,-0.0611111462044,-0.0304514110983,-0.0594336934245,-0.00924613502596,-0.238716443064,0.096411631275,-0.360512179418,0.104450998417,0.045981061507,-0.234257500663,0.157945356077,0.178244925198,0.0102493444038,0.0219554835981,-0.0761427719128,0.0122710467824,0.046410649411,-0.00705644990104] 66.5128526787\n"
     ]
    }
   ],
   "source": [
    "\n",
    "firstModel = LinearRegressionWithSGD.train(parsedTrainData, iterations = numIters, step = alpha, miniBatchFraction = miniBatchFrac,\n",
    "                                          regParam = reg, regType = regType, intercept = useIntercept)\n",
    "\n",
    "\n",
    "weightsLR1 = firstModel.weights\n",
    "interceptLR1 = firstModel.intercept\n",
    "print weightsLR1, interceptLR1"
   ]
  },
  {
   "cell_type": "code",
   "execution_count": null,
   "metadata": {
    "collapsed": false
   },
   "outputs": [],
   "source": [
    "#parsedData.saveAsTextFile(\"parsedData\")"
   ]
  },
  {
   "cell_type": "code",
   "execution_count": 33,
   "metadata": {
    "collapsed": false
   },
   "outputs": [
    {
     "name": "stdout",
     "output_type": "stream",
     "text": [
      "Validation RMSE:\n",
      "\tBaseline = 10.947\n",
      "\tLR1 = 12.810\n"
     ]
    }
   ],
   "source": [
    "#validation\n",
    "labelsAndPreds = parsedValData.map(lambda rec: (rec.label, firstModel.predict(rec.features)))\n",
    "rmseValLR1 = calcRMSE(labelsAndPreds)\n",
    "\n",
    "print ('Validation RMSE:\\n\\tBaseline = {0:.3f}\\n\\tLR1 = {1:.3f}').format(rmseValBase, rmseValLR1)"
   ]
  },
  {
   "cell_type": "code",
   "execution_count": 34,
   "metadata": {
    "collapsed": true
   },
   "outputs": [],
   "source": [
    "from pyspark.mllib.regression import LassoWithSGD "
   ]
  },
  {
   "cell_type": "code",
   "execution_count": null,
   "metadata": {
    "collapsed": true
   },
   "outputs": [],
   "source": [
    "#LassoWithSGD\n",
    "Model2 = LassoWithSGD.train(parsedTrainData,iterations = numIters,step = alpha,regParam = reg,miniBatchFraction = miniBatchFrac)"
   ]
  },
  {
   "cell_type": "code",
   "execution_count": null,
   "metadata": {
    "collapsed": false
   },
   "outputs": [],
   "source": [
    "#validation_LassoSGD\n",
    "labelsAndPreds1 = parsedValData.map(lambda rec: (rec.label,Model2.predict(rec.features)))\n",
    "rmseValLA1 = calcRMSE(labelsAndPreds1)\n",
    "\n",
    "print ('Validation RMSE:\\n\\tBaseline = {0:.3f}\\n\\tLR1 = {1:.3f}\\n\\tLA1= {2:3f}').format(rmseValBase,rmseValLR1, rmseValLA1)"
   ]
  },
  {
   "cell_type": "code",
   "execution_count": null,
   "metadata": {
    "collapsed": false
   },
   "outputs": [],
   "source": [
    "#RidgewithSGD\n",
    "from pyspark.mllib.regression import RidgeRegressionWithSGD\n",
    "Model3 = RidgeRegressionWithSGD.train(parsedTrainData,iterations = numIters,step = alpha,regParam = reg,miniBatchFraction = miniBatchFrac)\n",
    "#validation_LassoSGD\n",
    "labelsAndPreds2 = parsedValData.map(lambda rec: (rec.label,Model3.predict(rec.features)))\n",
    "rmseValRD1 = calcRMSE(labelsAndPreds2)\n",
    "\n",
    "print ('Validation RMSE:\\n\\tBaseline = {0:.3f}\\n\\tLR1 = {1:.3f}\\n\\tLA1= {2:3f}\\n\\tRD1= {3:3f}').format(rmseValBase,rmseValLR1, rmseValLA1,rmseValRD1)"
   ]
  },
  {
   "cell_type": "code",
   "execution_count": null,
   "metadata": {
    "collapsed": true
   },
   "outputs": [],
   "source": [
    "# Evaluating the model on training data\n",
    "labelsAndPreds = parsedTrainData.map(lambda p: (p.label, float(model.predict(p.features))))\n",
    "trainErr = labelsAndPreds.filter(lambda (v, p): v != p).count() / float(parsedTrainData.count())\n",
    "print(\"Training Error = \" + str(trainErr))"
   ]
  },
  {
   "cell_type": "code",
   "execution_count": null,
   "metadata": {
    "collapsed": true
   },
   "outputs": [],
   "source": [
    "#Grid search\n",
    "bestRMSE = rmseValLR1\n",
    "bestRegParam = reg\n",
    "bestModel = firstModel\n",
    "\n",
    "numIters = 500\n",
    "alpha = 1.0\n",
    "miniBatchFrac = 1.0\n",
    "for reg in [1e-10, 1e-5, 1]:\n",
    "    model = LinearRegressionWithSGD.train(parsedTrainData, numIters, alpha,\n",
    "                                          miniBatchFrac, regParam=reg,\n",
    "                                          regType='l2', intercept=True)\n",
    "    labelsAndPreds = parsedValData.map(lambda lp: (lp.label, model.predict(lp.features)))\n",
    "    rmseValGrid = calcRMSE(labelsAndPreds)\n",
    "    print rmseValGrid\n",
    "\n",
    "    if rmseValGrid < bestRMSE:\n",
    "        bestRMSE = rmseValGrid\n",
    "        bestRegParam = reg\n",
    "        bestModel = model\n",
    "rmseValLRGrid = bestRMSE\n",
    "\n",
    "print ('Validation RMSE:\\n\\tBaseline = {0:.3f}\\n\\tLR1 = {1:.3f}\\n\\tLA1= {2:3f}\\n\\tRD1= {3:3f}\\n\\tLRGrid= {4:3f}').format(rmseValBase,rmseValLR1, rmseValLA1,rmseValRD1,rmseValGrid)"
   ]
  },
  {
   "cell_type": "code",
   "execution_count": null,
   "metadata": {
    "collapsed": true
   },
   "outputs": [],
   "source": []
  }
 ],
 "metadata": {
  "kernelspec": {
   "display_name": "Python 2",
   "language": "python",
   "name": "python2"
  },
  "language_info": {
   "codemirror_mode": {
    "name": "ipython",
    "version": 2
   },
   "file_extension": ".py",
   "mimetype": "text/x-python",
   "name": "python",
   "nbconvert_exporter": "python",
   "pygments_lexer": "ipython2",
   "version": "2.7.10"
  }
 },
 "nbformat": 4,
 "nbformat_minor": 0
}
